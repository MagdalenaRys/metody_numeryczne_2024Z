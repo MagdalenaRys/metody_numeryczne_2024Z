{
 "cells": [
  {
   "cell_type": "markdown",
   "metadata": {},
   "source": [
    "# Lista 2\n",
    "## Magdalena Ryś"
   ]
  },
  {
   "cell_type": "code",
   "execution_count": 1,
   "metadata": {},
   "outputs": [],
   "source": [
    "import numpy as np #używane jedynie do porównywania wyników"
   ]
  },
  {
   "cell_type": "markdown",
   "metadata": {},
   "source": [
    "### Zadania 1-3\n",
    "\n",
    "Oddane na kartce na zajęciach"
   ]
  },
  {
   "cell_type": "markdown",
   "metadata": {},
   "source": [
    "### FUNKCJE POMOCNICZE ZASTĘPUJĄCE METODY W NUMPY:"
   ]
  },
  {
   "cell_type": "code",
   "execution_count": 2,
   "metadata": {},
   "outputs": [],
   "source": [
    "def identity(n: int) -> list[list[int]]:\n",
    "    \"\"\"\n",
    "    Function:\n",
    "        funkcja generująca macierz jednostkową\n",
    "    Inpput:\n",
    "        n (int) - wymiar macierzy\n",
    "    Output:\n",
    "        (list of lists) - macierz jednostkowa o podanych wymiarach\n",
    "    \"\"\"\n",
    "    return [[1 if i == j else 0 for j in range(n)] for i in range(n)]\n",
    "\n",
    "def print_matrix(matrix: list[list[float]]):\n",
    "    \"\"\"\n",
    "    Function:\n",
    "        funkcja wspomagająca wywoływanie macierzy w celu uniknięcia wyprintowania jej w jednej linijce\n",
    "    Input:\n",
    "        matric (list of lists) - macierz\"\"\"\n",
    "    for el in matrix:\n",
    "        print(el)\n",
    "\n",
    "def matrix_x_vector(matrix: list[list[float]], vector: list[float]) -> list[list[float]]:\n",
    "    \"\"\"\n",
    "    Function:\n",
    "        funkcja mnożąca macierz razy wektor\n",
    "    Input:\n",
    "        matrix (list of lists) - macierz\n",
    "        vector (list) - wektor\n",
    "    Output:\n",
    "        result (list of lists) - wynik mnożenia\n",
    "    \"\"\"\n",
    "    n = len(matrix)\n",
    "    result = [0 for _ in range(n)]\n",
    "    \n",
    "    for i in range(n):\n",
    "        for j in range(len(vector)):\n",
    "            result[i] += matrix[i][j] * vector[j]\n",
    "    \n",
    "    return result"
   ]
  },
  {
   "cell_type": "markdown",
   "metadata": {},
   "source": [
    "### FUNKCJA OBLICZAJĄCA WYZNACZNIK MACIERZY"
   ]
  },
  {
   "cell_type": "code",
   "execution_count": 3,
   "metadata": {},
   "outputs": [],
   "source": [
    "def determinant(matrix: list[list[float]]) -> float:\n",
    "    '''\n",
    "    Function:\n",
    "        Funkcja obliczająca wyznacznik podanej macierzy\n",
    "    Input:\n",
    "        matrix (list of lists) - macierz, której wyznacznik chcemy obliczyć\n",
    "    Output:\n",
    "        det (float) - wyznacznik macierzy\n",
    "    '''\n",
    "    A = [row[:] for row in matrix]  \n",
    "    n = len(A)\n",
    "    det = 1\n",
    "\n",
    "    for i in range(n - 1):\n",
    "        if A[i][i] == 0:\n",
    "            for j in range(i + 1, n):\n",
    "                if A[j][i] != 0:\n",
    "                    A[i], A[j] = A[j], A[i]\n",
    "                    det *= -1 \n",
    "                    break\n",
    "            else:\n",
    "                return 0\n",
    "\n",
    "        for k in range(i + 1, n):\n",
    "            if A[k][i] != 0:\n",
    "                factor = A[k][i] / A[i][i]\n",
    "                for col in range(i, n):\n",
    "                    A[k][col] -= factor * A[i][col]\n",
    "\n",
    "    for i in range(n):\n",
    "        det *= A[i][i] \n",
    "\n",
    "    return det\n"
   ]
  },
  {
   "cell_type": "markdown",
   "metadata": {},
   "source": [
    "### FUNKCJA WYKORZYSTUJĄCA METODĘ ELIMINACJI GAUSSA"
   ]
  },
  {
   "cell_type": "code",
   "execution_count": 4,
   "metadata": {},
   "outputs": [],
   "source": [
    "def gauss_elimination(matrix_A: list[list[float]], matrix_b: list[float]) -> list[float]:\n",
    "    '''\n",
    "    Function:\n",
    "        Funkcja rozwiązująca równanie za pomocą metody eliminacji gaussa\n",
    "    Input:\n",
    "        matrix_A (list of lists) - macierz A\n",
    "        matrix_b (list) - lista b\n",
    "    Output:\n",
    "        x (list) - macierz rozwiązań\n",
    "    '''\n",
    "    A = [row[:] for row in matrix_A]  \n",
    "    b = matrix_b[:]  \n",
    "    n = len(A)\n",
    "\n",
    "    for i in range(n - 1):\n",
    "        if A[i][i] == 0: \n",
    "            for j in range(i + 1, n):\n",
    "                if A[j][i] != 0:\n",
    "                    A[i], A[j] = A[j], A[i]\n",
    "                    b[i], b[j] = b[j], b[i]\n",
    "                    break\n",
    "\n",
    "        for k in range(i + 1, n):\n",
    "            if A[k][i] != 0:\n",
    "                factor = A[k][i] / A[i][i]\n",
    "                for c in range(i, n):\n",
    "                    A[k][c] -= factor * A[i][c]\n",
    "                b[k] -= factor * b[i]\n",
    "\n",
    "    x = [0] * n\n",
    "    for i in range(n - 1, -1, -1):\n",
    "        sum_ax = 0\n",
    "        for j in range(i + 1, n):\n",
    "            sum_ax += A[i][j] * x[j]\n",
    "        x[i] = (b[i] - sum_ax) / A[i][i]\n",
    "\n",
    "    return x"
   ]
  },
  {
   "cell_type": "code",
   "execution_count": 7,
   "metadata": {},
   "outputs": [
    {
     "name": "stdout",
     "output_type": "stream",
     "text": [
      "[np.float64(1.0), np.float64(3.0), np.float64(5.0)]\n"
     ]
    }
   ],
   "source": [
    "A = np.array([[1, 1, 1],\n",
    "              [2, -3, 4],\n",
    "              [3, 4, 5]], dtype=float)\n",
    "\n",
    "b = [9, 13, 40]\n",
    "\n",
    "print(gauss_elimination(A,b))"
   ]
  },
  {
   "cell_type": "markdown",
   "metadata": {},
   "source": [
    "### FUNKCJA OBLICZAJĄCA MACIERZ ODWROTNĄ DO MACIERZY A"
   ]
  },
  {
   "cell_type": "code",
   "execution_count": null,
   "metadata": {},
   "outputs": [],
   "source": [
    "def invertible_matrix(matrix: list[list[float]]) -> list[list[float]]:\n",
    "    '''\n",
    "    Function:\n",
    "        Funkcja obliczająca macierz odwrotą\n",
    "    Input:\n",
    "        matrix (list of lists) - macierz, której macierz odwrotną\n",
    "    Output:\n",
    "        I (list of lists) - obliczona macierz odwrotna\n",
    "    '''\n",
    "    A = [row[:] for row in matrix]\n",
    "    n = len(A)\n",
    "    I = identity(n)\n",
    "\n",
    "    for i in range(n):\n",
    "        if A[i][i] == 0:\n",
    "            for j in range(i + 1, n):\n",
    "                if A[j][i] != 0:\n",
    "                    A[i], A[j] = A[j], A[i]\n",
    "                    I[i], I[j] = I[j], I[i]\n",
    "                    break\n",
    "            else:\n",
    "                raise ValueError(\"Macierz osobliwa nie ma macierzy odwrotnej\")\n",
    "\n",
    "        factor = A[i][i]\n",
    "        for c in range(n):\n",
    "            I[i][c] /= factor\n",
    "            A[i][c] /= factor\n",
    "\n",
    "        for k in range(i + 1, n):\n",
    "            if A[k][i] != 0:\n",
    "                factor = A[k][i]\n",
    "                for c in range(n):\n",
    "                    I[k][c] -= factor * I[i][c]\n",
    "                    A[k][c] -= factor * A[i][c]\n",
    "\n",
    "    for i in range(n - 1, -1, -1):\n",
    "        for j in range(i - 1, -1, -1):\n",
    "            factor = A[j][i]\n",
    "            for c in range(n):\n",
    "                I[j][c] -= factor * I[i][c]\n",
    "                A[j][c] -= factor * A[i][c]\n",
    "\n",
    "    return I"
   ]
  },
  {
   "cell_type": "markdown",
   "metadata": {},
   "source": [
    "### FUNKCJA ZAMIENIAJĄCA PUNKTY NA MACIERZ"
   ]
  },
  {
   "cell_type": "code",
   "execution_count": null,
   "metadata": {},
   "outputs": [],
   "source": [
    "def points_to_matrix(points: list[tuple]) -> tuple[list[list[float]], list[float]]:\n",
    "    '''\n",
    "    Function:\n",
    "        Funkcja zamieniająca punkty przez które przechodzi wielomian na macierze do rozwiązania metodą gaussa\n",
    "    Input:\n",
    "        points (list of tuples) - punkty przez które przechodzi wielomian\n",
    "    Output:\n",
    "        matrix_A (list of lists) - macierz A\n",
    "        matrix_b (list) - lista b\n",
    "    '''\n",
    "    n = len(points)\n",
    "    A = [[0 for _ in range(n)] for _ in range(n)]\n",
    "    b = [0 for _ in range(n)]\n",
    "\n",
    "    for i in range(n):\n",
    "        for j in range(n):\n",
    "            A[i][j] = points[i][0] ** j  \n",
    "        b[i] = points[i][1]\n",
    "\n",
    "    return A, b"
   ]
  },
  {
   "cell_type": "markdown",
   "metadata": {},
   "source": [
    "### Zadanie 4\n",
    "\n",
    "Rozwiąż układ równań $Ax = b$ "
   ]
  },
  {
   "cell_type": "code",
   "execution_count": null,
   "metadata": {},
   "outputs": [
    {
     "name": "stdout",
     "output_type": "stream",
     "text": [
      "Rozwiązanie metodą eliminacji gaussa: [2.0, -2.0, 1.0, 1.0, -1.0]\n",
      "Rozwiązanie funkcją wbudowaną numpy:  [ 2. -2.  1.  1. -1.]\n"
     ]
    }
   ],
   "source": [
    "A4 = [[0, 0, 2, 1, 2], [0, 1, 0, 2, -1], [1, 2, 0, -2, 0], [0, 0, 0, -1, 1], [0, 1, -1, 1, -1]]\n",
    "b4 = [1, 1, -4, -2, -1]\n",
    "\n",
    "print(\"Rozwiązanie metodą eliminacji gaussa:\", gauss_elimination(A4, b4))\n",
    "print(\"Rozwiązanie funkcją wbudowaną numpy: \", np.linalg.solve(A4, b4))"
   ]
  },
  {
   "cell_type": "markdown",
   "metadata": {},
   "source": [
    "W celu rozwiązania podanego układu równań wykorzystano zaimplementowaną wcześniej metodę eliminacji gaussa. Jak widać, otrzymane rozwiązania pokrywają się z tymi wygenerowanymi przez funkcję wbudowaną pakietu numpy."
   ]
  },
  {
   "cell_type": "markdown",
   "metadata": {},
   "source": [
    "### Zadanie 5\n",
    "Wyznacz współczynniki wielomianu\n",
    "$y = a_0 + a_1 \\ x + a_2 \\ x^2 + a_3 \\ x^3 + a_4 \\ x^4 $, który przechodzi przez punkty $(0, -1), (1, 1), (3, 3), (5, 2)$ i $(6, -1)$."
   ]
  },
  {
   "cell_type": "markdown",
   "metadata": {},
   "source": [
    "Aby wyznaczyć współczynniki $a_1, a_2, a_3, a_4$ wielomianu wykorzystujemy układ równań, który następnie rozwiążemy zaimplementowaną wcześniej metodą eliminacji Gaussa. Do równania wielomianu podstawiamy podane punkty otrzymując układ pięciu równań:\n",
    "\n",
    "\\begin{cases}\n",
    "  a_0 = -1, \\\\\n",
    "  a_0 + a_1 + a_2 + a_3 + a_4 = 1, \\\\\n",
    "  a_0 + 3a_1 + 9a_2 + 27a_3 + 81a_4 = 3, \\\\\n",
    "  a_0 + 5a_1 + 25a_2 + 125a_3 + 625a_4 = 2, \\\\\n",
    "  a_0 + 6a_1 + 36a_2 + 216a_3 + 1296a_4 = -1.\n",
    "\\end{cases}\n",
    "\n",
    "którego wektor rozwiązań jest szukanymi przez nas wspołczynnikami $a_1, a_2, a_3, a_4$."
   ]
  },
  {
   "cell_type": "code",
   "execution_count": null,
   "metadata": {},
   "outputs": [
    {
     "name": "stdout",
     "output_type": "stream",
     "text": [
      "Rozwiązanie metodą eliminacji gaussa: [-1.0, 2.6833333333333336, -0.8750000000000003, 0.21666666666666679, -0.02500000000000001]\n",
      "Rozwiązanie funkcją wbudowaną numpy:  [-1.          2.68333333 -0.875       0.21666667 -0.025     ]\n"
     ]
    }
   ],
   "source": [
    "points = [(0, -1), (1, 1), (3, 3), (5, 2), (6, -2)]\n",
    "A5, b5 = points_to_matrix(points)\n",
    "\n",
    "print(\"Rozwiązanie metodą eliminacji gaussa:\", gauss_elimination(A5, b5))\n",
    "print(\"Rozwiązanie funkcją wbudowaną numpy: \", np.linalg.solve(A5,b5))"
   ]
  },
  {
   "cell_type": "markdown",
   "metadata": {},
   "source": [
    "### Zadanie 6\n",
    "Rozwiąż układ równań $Ax = b$. Oblicz det $A$ i $Ax$. Co powiesz o dokładności rozwiązania?"
   ]
  },
  {
   "cell_type": "code",
   "execution_count": null,
   "metadata": {},
   "outputs": [
    {
     "name": "stdout",
     "output_type": "stream",
     "text": [
      "Rozwiązanie metodą eliminacji Gaussa:         [1.0000000000000442, 1.0000000000000102, 1.0000000000000129, 0.9999999999999036]\n",
      "Rozwiązanie funkcją wbudowaną numpy:          [1. 1. 1. 1.] \n",
      "\n",
      "Wyznacznik macierzy A wg funkcji determinant: -0.22579734000001275\n",
      "Wyznacznik macierzy A wg numpy:               -0.2257973399999901 \n",
      "\n",
      "Obliczona wartość Ax:                         [7.31, 4.230000000000001, 13.849999999999998, 11.550000000000002]\n"
     ]
    }
   ],
   "source": [
    "A6 = [[3.5, 2.77, -0.76, 1.80], [-1.80, 2.68, 3.44, -0.09], [0.27, 5.07, 6.90, 1.61], [1.71, 5.45, 2.68, 1.71]]\n",
    "b6 = [7.31, 4.23, 13.85, 11.55]\n",
    "\n",
    "x = gauss_elimination(A6, b6)\n",
    "Ax = matrix_x_vector(A6, x)\n",
    "\n",
    "print(\"Rozwiązanie metodą eliminacji Gaussa:        \", gauss_elimination(A6, b6))\n",
    "print(\"Rozwiązanie funkcją wbudowaną numpy:         \", np.linalg.solve(A6, b6), \"\\n\")\n",
    "print(\"Wyznacznik macierzy A wg funkcji determinant:\", determinant(A6))\n",
    "print(\"Wyznacznik macierzy A wg numpy:              \", np.linalg.det(A6), \"\\n\")\n",
    "print(\"Obliczona wartość Ax:                        \", Ax)"
   ]
  },
  {
   "cell_type": "markdown",
   "metadata": {},
   "source": [
    "Jak widać, otrzymane za pomocą metody eliminacji gaussa rozwiązania nieznacznie różnią się od tych z biblioteki numpy. Wynika to z błędów zaokrągleń w obliczeniach numerycznych przy użyciu liczb zmiennoprzecinkowych, oraz kumulacji błędów wynikającej ze złożoności obliczeń. Błędy te są jednak nieznaczne - w przypadku wektorów rozwiązań są to różnice rzędu $10^{14}$, natomiast dla wyznacznika macierzy $A$ $10^8$. Różnice między obliczoną wartością $Ax$ a wektorem $b$ są rzędu nawet $10^{16}$."
   ]
  },
  {
   "cell_type": "markdown",
   "metadata": {},
   "source": [
    "### Zadanie 7\n",
    "Rozwiąż układ równań"
   ]
  },
  {
   "cell_type": "code",
   "execution_count": null,
   "metadata": {},
   "outputs": [
    {
     "name": "stdout",
     "output_type": "stream",
     "text": [
      "Rozwiązanie metodą eliminacji gaussa: [-0.9999999999999986, 0.9999999999999992, -0.9999999999999996, 0.9999999999999991, -1.0000000000000004, 0.9999999999999993, -0.9999999999999991, 0.9999999999999987]\n",
      "Rozwiązanie funkcją wbudowaną numpy:  [-1.  1. -1.  1. -1.  1. -1.  1.]\n"
     ]
    }
   ],
   "source": [
    "A7 = [[10, -2, -1, 2, 3, 1, -4, 7], \n",
    "      [5, 11, 3, 10, -3, 3, 3, -4], \n",
    "      [7, 12, 1, 5, 3, -12, 2, 3], \n",
    "      [8, 7, -2, 1, 3, 2, 2, 4],\n",
    "      [2, -15, -1, 1, 4, -1, 8, 3],\n",
    "      [4, 2, 9, 1, 12, -1, 4, 1],\n",
    "      [-1, 4, -7, -1, 1, 1, -1, -3],\n",
    "      [-1, 3, 4, 1, 3, -4, 7, 6]]\n",
    "\n",
    "b7 = [0, 12, -5, 3, -25, -26, 9, -7]\n",
    "\n",
    "print(\"Rozwiązanie metodą eliminacji gaussa:\", gauss_elimination(A7, b7))\n",
    "print(\"Rozwiązanie funkcją wbudowaną numpy: \", np.linalg.solve(A7,b7))"
   ]
  },
  {
   "cell_type": "markdown",
   "metadata": {},
   "source": [
    "### Zadanie 8\n",
    "Znajdź macierz odwrotną do macierzy. Zwróć uwaagę na kształt $A^{-1}$. Czy jest trójdiagonalna?"
   ]
  },
  {
   "cell_type": "code",
   "execution_count": null,
   "metadata": {},
   "outputs": [
    {
     "name": "stdout",
     "output_type": "stream",
     "text": [
      "[0.84, 0.6799999999999999, 0.5199999999999998, 0.36, 0.19999999999999998, 0.04]\n",
      "[0.6799999999999999, 1.3599999999999999, 1.0399999999999996, 0.72, 0.39999999999999997, 0.08]\n",
      "[0.5199999999999999, 1.0399999999999998, 1.5599999999999996, 1.08, 0.6, 0.12000000000000001]\n",
      "[0.36, 0.72, 1.0799999999999998, 1.4400000000000002, 0.8, 0.16000000000000003]\n",
      "[0.19999999999999998, 0.39999999999999997, 0.5999999999999999, 0.8, 1.0, 0.2]\n",
      "[0.039999999999999994, 0.07999999999999999, 0.11999999999999997, 0.16, 0.19999999999999998, 0.24]\n",
      "\n",
      " [[0.84 0.68 0.52 0.36 0.2  0.04]\n",
      " [0.68 1.36 1.04 0.72 0.4  0.08]\n",
      " [0.52 1.04 1.56 1.08 0.6  0.12]\n",
      " [0.36 0.72 1.08 1.44 0.8  0.16]\n",
      " [0.2  0.4  0.6  0.8  1.   0.2 ]\n",
      " [0.04 0.08 0.12 0.16 0.2  0.24]]\n"
     ]
    }
   ],
   "source": [
    "A8 = [[2, -1, 0, 0, 0, 0],\n",
    "      [-1, 2, -1, 0, 0, 0],\n",
    "      [0, -1, 2, -1, 0, 0],\n",
    "      [0, 0, -1, 2, -1, 0],\n",
    "      [0, 0, 0, -1, 2, -1],\n",
    "      [0, 0, 0, 0, -1, 5]]\n",
    "\n",
    "print_matrix(invertible_matrix(A8))\n",
    "print(\"\\n\", np.linalg.inv(A8))"
   ]
  },
  {
   "cell_type": "markdown",
   "metadata": {},
   "source": [
    "Otrzymana macierz nie jest trójdiagonalna, ale jest symetryczna. Mimo nieznacznych nidokładności możemy zauważyć, że otzrymany wynik pokrywa się z tym uzyskanym za pomocą biblioteki numpy."
   ]
  },
  {
   "cell_type": "markdown",
   "metadata": {},
   "source": [
    "### Zadanie 9\n",
    "\n",
    "Znajdź macierz odwrotną do macierzy. Co powiesz o jakości tego rozwiązania?"
   ]
  },
  {
   "cell_type": "code",
   "execution_count": null,
   "metadata": {},
   "outputs": [
    {
     "ename": "ValueError",
     "evalue": "Macierz osobliwa nie ma macierzy odwrotnej",
     "output_type": "error",
     "traceback": [
      "\u001b[1;31m---------------------------------------------------------------------------\u001b[0m",
      "\u001b[1;31mValueError\u001b[0m                                Traceback (most recent call last)",
      "Cell \u001b[1;32mIn[27], line 7\u001b[0m\n\u001b[0;32m      1\u001b[0m A9 \u001b[38;5;241m=\u001b[39m [[\u001b[38;5;241m1\u001b[39m, \u001b[38;5;241m3\u001b[39m, \u001b[38;5;241m-\u001b[39m\u001b[38;5;241m9\u001b[39m, \u001b[38;5;241m6\u001b[39m, \u001b[38;5;241m4\u001b[39m],\n\u001b[0;32m      2\u001b[0m       [\u001b[38;5;241m2\u001b[39m, \u001b[38;5;241m-\u001b[39m\u001b[38;5;241m1\u001b[39m, \u001b[38;5;241m6\u001b[39m, \u001b[38;5;241m7\u001b[39m, \u001b[38;5;241m1\u001b[39m],\n\u001b[0;32m      3\u001b[0m       [\u001b[38;5;241m3\u001b[39m, \u001b[38;5;241m2\u001b[39m, \u001b[38;5;241m-\u001b[39m\u001b[38;5;241m3\u001b[39m, \u001b[38;5;241m15\u001b[39m, \u001b[38;5;241m5\u001b[39m],\n\u001b[0;32m      4\u001b[0m       [\u001b[38;5;241m8\u001b[39m, \u001b[38;5;241m-\u001b[39m\u001b[38;5;241m1\u001b[39m, \u001b[38;5;241m1\u001b[39m, \u001b[38;5;241m4\u001b[39m, \u001b[38;5;241m2\u001b[39m],\n\u001b[0;32m      5\u001b[0m       [\u001b[38;5;241m11\u001b[39m, \u001b[38;5;241m1\u001b[39m, \u001b[38;5;241m-\u001b[39m\u001b[38;5;241m2\u001b[39m, \u001b[38;5;241m18\u001b[39m, \u001b[38;5;241m7\u001b[39m]]\n\u001b[1;32m----> 7\u001b[0m \u001b[38;5;28mprint\u001b[39m(\u001b[43minvertible_matrix\u001b[49m\u001b[43m(\u001b[49m\u001b[43mA9\u001b[49m\u001b[43m)\u001b[49m)\n",
      "Cell \u001b[1;32mIn[20], line 22\u001b[0m, in \u001b[0;36minvertible_matrix\u001b[1;34m(matrix)\u001b[0m\n\u001b[0;32m     20\u001b[0m             \u001b[38;5;28;01mbreak\u001b[39;00m\n\u001b[0;32m     21\u001b[0m     \u001b[38;5;28;01melse\u001b[39;00m:\n\u001b[1;32m---> 22\u001b[0m         \u001b[38;5;28;01mraise\u001b[39;00m \u001b[38;5;167;01mValueError\u001b[39;00m(\u001b[38;5;124m\"\u001b[39m\u001b[38;5;124mMacierz osobliwa nie ma macierzy odwrotnej\u001b[39m\u001b[38;5;124m\"\u001b[39m)\n\u001b[0;32m     24\u001b[0m factor \u001b[38;5;241m=\u001b[39m A[i][i]\n\u001b[0;32m     25\u001b[0m \u001b[38;5;28;01mfor\u001b[39;00m c \u001b[38;5;129;01min\u001b[39;00m \u001b[38;5;28mrange\u001b[39m(n):\n",
      "\u001b[1;31mValueError\u001b[0m: Macierz osobliwa nie ma macierzy odwrotnej"
     ]
    }
   ],
   "source": [
    "A9 = [[1, 3, -9, 6, 4],\n",
    "      [2, -1, 6, 7, 1],\n",
    "      [3, 2, -3, 15, 5],\n",
    "      [8, -1, 1, 4, 2],\n",
    "      [11, 1, -2, 18, 7]]\n",
    "\n",
    "print(invertible_matrix(A9))"
   ]
  },
  {
   "cell_type": "code",
   "execution_count": null,
   "metadata": {},
   "outputs": [
    {
     "name": "stdout",
     "output_type": "stream",
     "text": [
      "9.485745522397344e-13\n",
      "1.9761969838327938e-14\n"
     ]
    }
   ],
   "source": [
    "print(determinant(A9))"
   ]
  },
  {
   "cell_type": "markdown",
   "metadata": {},
   "source": [
    "Wyznacznik podanej macierzy wynosi zero (w wyniku niedokładności obliczeń powyżej otrzymano \"prawie zero\"), czyli macierz jest osobliwa, a więc nie posiada macierzy odwrotnej."
   ]
  }
 ],
 "metadata": {
  "kernelspec": {
   "display_name": "Python 3",
   "language": "python",
   "name": "python3"
  },
  "language_info": {
   "codemirror_mode": {
    "name": "ipython",
    "version": 3
   },
   "file_extension": ".py",
   "mimetype": "text/x-python",
   "name": "python",
   "nbconvert_exporter": "python",
   "pygments_lexer": "ipython3",
   "version": "3.13.0"
  }
 },
 "nbformat": 4,
 "nbformat_minor": 2
}
