{
 "cells": [
  {
   "cell_type": "markdown",
   "metadata": {},
   "source": [
    "## Lista 6\n",
    "### Magdalena Ryś 276004"
   ]
  },
  {
   "cell_type": "code",
   "execution_count": 2,
   "metadata": {},
   "outputs": [],
   "source": [
    "import numpy as np\n",
    "from scipy.integrate import simpson\n",
    "import pandas as pd\n",
    "import matplotlib.pyplot as plt"
   ]
  },
  {
   "cell_type": "code",
   "execution_count": 3,
   "metadata": {},
   "outputs": [],
   "source": [
    "def my_simpson(y, dx):\n",
    "    '''\n",
    "    Function:\n",
    "        Funkcja obliczająca całkę metodą simpsona\n",
    "    Input:\n",
    "        y (float) - wartość całkowana\n",
    "        dx (float) - jednostka całkowania\n",
    "    Output:\n",
    "        result (float) - rozwiązanie\n",
    "    ''' \n",
    " \n",
    "    result = y[0] + y[-1]  \n",
    "    result += 4 * np.sum(y[1:-1:2])  \n",
    "    result += 2 * np.sum(y[2:-2:2])  \n",
    "    result *= dx / 3\n",
    "    \n",
    "    return result"
   ]
  },
  {
   "cell_type": "code",
   "execution_count": 4,
   "metadata": {},
   "outputs": [],
   "source": [
    "def trapez(f, a, b, n):\n",
    "    '''\n",
    "    Function:\n",
    "        Funkcja obliczająca całkę metodą trapezów\n",
    "    Input:\n",
    "        f (funct) - funkcja\n",
    "        a (float) - początek przedziału\n",
    "        b (float) - koniec przedziału\n",
    "        n (int) - ilość węzłów\n",
    "    Output:\n",
    "        (float) - rozwiązanie\n",
    "    ''' \n",
    "    h = (b - a) / n  \n",
    "    t_values = np.linspace(a, b, n + 1) \n",
    "    f_values = f(t_values)  \n",
    "\n",
    "    return (h / 2) * (f_values[0] + 2 * np.sum(f_values[1:-1]) + f_values[-1])"
   ]
  },
  {
   "cell_type": "markdown",
   "metadata": {},
   "source": [
    "### Zadanie 1\n",
    "W tabeli 1 przedstawiona jest moc $P$ przyłożona do kół samochodu jako funkcja prędkości $v$. Zakładając, że masa samochodu $m$ wynosi 2000 kg, wyznacz czas potrzebny do rozpędzenia samochodu od prędkości 1 m/s do 6 m/s. \n",
    "\n",
    "Wskazówka:  \n",
    "$$\n",
    "\\Delta t = m \\int_{v_1}^{v_2} \\frac{v}{P} \\, dv\n",
    "$$\n",
    "\n",
    "| $v$ (m/s) |  1,0 | 1,8 | 2,4 | 3,5 | 4,4 | 5,1 | 6,0 |\n",
    "|-----------|-----|-----|-----|-----|-----|-----|-----|\n",
    "| $P$ (kW)  | 4,7 | 12,2| 19,0| 31,8| 40,1| 43,8| 43,2 |\n"
   ]
  },
  {
   "cell_type": "code",
   "execution_count": 5,
   "metadata": {},
   "outputs": [
    {
     "name": "stdout",
     "output_type": "stream",
     "text": [
      "Wyznaczony czas  : 1.2372835884079711 sekund.\n",
      "Sprawdzenie scipy: 1.2372835884079711 sekund.\n"
     ]
    }
   ],
   "source": [
    "v = np.array([1.0, 1.8, 2.4, 3.5, 4.4, 5.1, 6.0])\n",
    "P = np.array([4.7, 12.2, 19.0, 31.8, 40.1, 43.8, 43.2]) * 1000 \n",
    "m = 2000  \n",
    "\n",
    "divide = v / P\n",
    "n = 3\n",
    "dx = v[1] - v[0]  \n",
    "\n",
    "integral = my_simpson(divide, dx)\n",
    "integral_test = simpson(divide, dx=dx)\n",
    "delta_t = m * integral\n",
    "delta_t_test = m * integral_test\n",
    "\n",
    "print(f\"Wyznaczony czas  : {delta_t} sekund.\")\n",
    "print(f\"Sprawdzenie scipy: {delta_t_test} sekund.\")"
   ]
  },
  {
   "cell_type": "markdown",
   "metadata": {},
   "source": [
    "### Zadanie 2\n",
    "Oblicz całkę\n",
    "$$\n",
    " \\int_{-1}^{1} \\cos{(2\\cos{^{-1}x})} dx\n",
    "$$\n",
    "korzystając ze wzoru Simpsona dla 3, 5 i 7 węzłów. Wyjaśnij wyniki"
   ]
  },
  {
   "cell_type": "code",
   "execution_count": 6,
   "metadata": {},
   "outputs": [
    {
     "name": "stdout",
     "output_type": "stream",
     "text": [
      "wynik dla 3 węzłów:  -0.6666666666666666\n",
      "wynik dla 5 węzłów:  -0.6666666666666665\n",
      "wynik dla 7 węzłów:  -0.6666666666666666\n"
     ]
    }
   ],
   "source": [
    "def f(x):\n",
    "    return np.cos(2 * np.arccos(x))\n",
    "\n",
    "a, b = -1, 1\n",
    "nodes = [3, 5, 7]\n",
    "\n",
    "results = {}\n",
    "\n",
    "for n in nodes:\n",
    "    x = np.linspace(a, b, n)  \n",
    "    y = f(x)  \n",
    "    dx = (b - a) / (n-1)  \n",
    "    result = my_simpson(y, dx)  \n",
    "    results[n] = result\n",
    "\n",
    "for n, res in results.items():\n",
    "    print(f\"wynik dla {n} węzłów: \", res)"
   ]
  },
  {
   "cell_type": "markdown",
   "metadata": {},
   "source": [
    "### Zadanie 3\n",
    "Oblicz całkę\n",
    "$$\n",
    " \\int_{-1}^{\\infty} (1+x^4)^{-1} dx\n",
    "$$\n",
    "korzystając ze wzoru trapezów dla 6 węzłów. Wskazówka: skorzystaj z\n",
    "podstawienia $x^3 = 1/t$\n"
   ]
  },
  {
   "cell_type": "markdown",
   "metadata": {},
   "source": [
    "Stosujemy podstawienie $x^3 = 1/t$. Wtedy $t = 1/x^{3}$ oraz $dx = -\\frac{1}{3} t^{-4/3}dt$. W granicach dla $x=-1$, $t=\\frac{1}{-1^{3}}=-1$ natomiast $x \\to \\infty$, $t \\to 0$.  Podstawiamy do całki:\n",
    "\n",
    "$$\n",
    "\\int_{-1}^\\infty \\frac{1}{1 + x^4} \\, dx \n",
    "= \\int_{-1}^0 \\frac{1}{1 + \\left(t^{-1/3}\\right)^4} \\cdot \\left(-\\frac{1}{3} t^{-4/3}\\right) \\, dt = \\frac{1}{3} \\int_{-1}^0 \\frac{t^{-4/3}}{1 + t^{-4/3}} \\, dt\n",
    "$$\n",
    "\n",
    "Wyrażenie podcałkowe upraszczamy:\n",
    "$$\n",
    "\\frac{t^{-4/3}}{1 + t^{-4/3}} = \\frac{1}{t^{4/3} + 1}\n",
    "$$\n",
    "\n",
    "Ostatecznie:\n",
    "$$\n",
    "\\int_{-1}^\\infty \\frac{1}{1 + x^4} \\, dx \n",
    "= \\frac{1}{3} \\int_{-1}^0 \\frac{1}{t^{4/3} + 1} \\, dt\n",
    "$$"
   ]
  },
  {
   "cell_type": "code",
   "execution_count": 7,
   "metadata": {},
   "outputs": [
    {
     "name": "stdout",
     "output_type": "stream",
     "text": [
      "Przybliżona wartość całki: 0.24369906525637575\n"
     ]
    }
   ],
   "source": [
    "def transformed_function(t):\n",
    "    return 1 / ((np.abs(t) ** (4/3)) + 1)\n",
    "\n",
    "a = -1  \n",
    "b = 0   \n",
    "n = 6 \n",
    "\n",
    "integral = (1/3) * trapez(transformed_function, a, b, n)\n",
    "print(\"Przybliżona wartość całki:\", integral)\n"
   ]
  },
  {
   "cell_type": "markdown",
   "metadata": {},
   "source": [
    "### Zadanie 4\n",
    "Okres $T$ wahadła matematycznego o długości $L$ zadany jest wzorem:  \n",
    "$$\n",
    "T = 4 \\sqrt{\\frac{L}{g}} h(\\theta_0),\n",
    "$$\n",
    "gdzie $g$ to przyspieszenie ziemskie, $\\theta_0$ to amplituda, oraz  \n",
    "$$\n",
    "h(\\theta_0) = \\int_{0}^{\\pi/2} \\frac{d\\theta}{\\sqrt{1 - \\sin^2\\left(\\frac{\\theta_0}{2}\\right) \\sin^2\\theta}}.\n",
    "$$\n",
    "\n",
    "Oblicz $h(15^\\circ)$, $h(30^\\circ)$ i $h(45^\\circ)$. Porównaj te wartości z $h(0) = \\pi/2$, stosowanym w przybliżeniu harmonicznym."
   ]
  },
  {
   "cell_type": "code",
   "execution_count": 8,
   "metadata": {},
   "outputs": [
    {
     "name": "stdout",
     "output_type": "stream",
     "text": [
      "h(15°) = 1.5775516607636666\n",
      "h(30°) = 1.5981420021125403\n",
      "h(45°) = 1.633586307458148\n",
      "przybliżenie harmoniczne h(0) = 1.5707963267948966\n"
     ]
    }
   ],
   "source": [
    "def zad4(theta, theta0):\n",
    "    return 1 / np.sqrt(1 - (np.sin(theta0 / 2) ** 2) * (np.sin(theta) ** 2))\n",
    "\n",
    "theta0 = [15, 30, 45] \n",
    "theta0_rad = [np.radians(theta) for theta in theta0]  \n",
    "a, b = 0, np.pi / 2 \n",
    "n = 1000\n",
    "\n",
    "result = []\n",
    "for th in theta0_rad:\n",
    "    t_values = np.linspace(a, b, n + 1)\n",
    "    f_values = zad4(t_values, th)\n",
    "    \n",
    "    h_simpson = my_simpson(f_values, (b - a) / n)\n",
    "    result.append(h_simpson)\n",
    "\n",
    "h0 = np.pi / 2\n",
    "\n",
    "for i, theta0 in enumerate(theta0):\n",
    "    print(f\"h({theta0}°) = {result[i]}\")\n",
    "print(f\"przybliżenie harmoniczne h(0) = {h0}\")\n"
   ]
  },
  {
   "cell_type": "markdown",
   "metadata": {},
   "source": [
    "### Zadanie 5\n",
    "Oblicz całkę\n",
    "$$\n",
    " \\int_{-1}^{\\pi} \\frac{\\ln{x}}{x^2-2x+2} dx\n",
    "$$\n",
    "metodą Gaussa-Legendre’a dla 2 i 4 węzłów"
   ]
  },
  {
   "cell_type": "code",
   "execution_count": 9,
   "metadata": {},
   "outputs": [
    {
     "name": "stdout",
     "output_type": "stream",
     "text": [
      "wynik dla 2 węzłów:  -0.13045368763793114\n",
      "wynik dla 4 węzłów:  -0.011382507402479841\n"
     ]
    }
   ],
   "source": [
    "def zad5(x):\n",
    "    return np.log(x) / (x**2 - 2*x + 2)\n",
    "\n",
    "def gauss_legendre(func, a, b, n):\n",
    "    '''\n",
    "    Function:\n",
    "        Funkcja obliczająca całkę metodą Gaussa-Legendre'a\n",
    "    Input:\n",
    "        f (funct) - funkcja\n",
    "        a (float) - początek przedziału\n",
    "        b (float) - koniec przedziału\n",
    "        n (int) - ilość węzłów\n",
    "    Output:\n",
    "        (float) - rozwiązanie\n",
    "    ''' \n",
    "    nodes, weights = np.polynomial.legendre.leggauss(n)\n",
    "    x = 0.5 * (b - a) * nodes + 0.5 * (a + b)\n",
    "    w = 0.5 * (b - a) * weights\n",
    "    return np.sum(w * func(x))\n",
    "\n",
    "a, b = 0, np.pi\n",
    "nodes = [2, 4]\n",
    "result = np.zeros(nodes)\n",
    "\n",
    "for i, node in enumerate(nodes):\n",
    "    print(f\"wynik dla {node} węzłów: \", gauss_legendre(zad5, a, b, node))"
   ]
  },
  {
   "cell_type": "markdown",
   "metadata": {},
   "source": [
    "### Zadanie 6\n",
    "Dane są funkcje:\n",
    "$f_1(x) = x^3 - 2x$, $f_2(x) = \\sin x$, $f_3(x) = e^x$. \n",
    "Uzupełnij tabelę.\n",
    "Pochodne | $h$      | $f'_1(x) - D_{f_1}$ | $f'_2(x) - D_{c_2}$ | $f'_3(x) - D_{c_4}$ |\n",
    "|----|----------|----------------------|---------------------|---------------------|\n",
    "$f'_1(1) = 1$ | $0.1$    |  |  |   |\n",
    "| | $0.01$   |   | |  |\n",
    "| | $0.001$  |     |     |   |\n",
    "| $f'_2(\\pi/3) = 1/2$ | $0.1$    |   |    |   |\n",
    "| | $0.01$   | |  | |\n",
    "| | $0.001$  |  |   |    |\n",
    "|$f'_3(0) = 1$ | $0.1$    |    |  | |\n",
    "| | $0.01$   | | |  |\n",
    "| | $0.001$  | |  |  |\n",
    "\n",
    "Korzystamy ze wzorów:\n",
    "\n",
    "- $D_{f_1}$: $D_{f_1} = \\dfrac{f(x+h)-f(x)}{h}$\n",
    "- $D_{c_2}$: $D_{c_2} = \\dfrac{f(x+h)-f(x-h)}{2h}$\n",
    "- $D_{c_4}$: $D_{c_4} = \\dfrac{8f(x+h)-8f(x-h)-f(x+2h)+f(x-2h)}{12h}$"
   ]
  },
  {
   "cell_type": "code",
   "execution_count": 10,
   "metadata": {},
   "outputs": [],
   "source": [
    "def Dc1(f, x, h):\n",
    "    return (f(x + h) - f(x)) / h\n",
    "\n",
    "def Dc2(f, x, h):\n",
    "    return (f(x + h) - f(x-h)) / (2*h)\n",
    "\n",
    "def Dc4(f, x, h):\n",
    "    return (8*f(x + h) - 8*f(x-h) - f(x+2*h) + f(x - 2*h)) / (12*h)"
   ]
  },
  {
   "cell_type": "code",
   "execution_count": 11,
   "metadata": {},
   "outputs": [
    {
     "name": "stdout",
     "output_type": "stream",
     "text": [
      "  Function      h  f'(x) - Dc1   f'(x) - Dc2   f'(x) - Dc4\n",
      "0       f1  0.100    -0.310000 -1.000000e-02 -1.110223e-15\n",
      "1       f1  0.010    -0.030100 -1.000000e-04 -4.662937e-15\n",
      "2       f1  0.001    -0.003001 -1.000000e-06  3.619327e-14\n",
      "3       f2  0.100     0.044098  8.329168e-04  1.664684e-06\n",
      "4       f2  0.010     0.004338  8.333292e-06  1.666588e-10\n",
      "5       f2  0.001     0.000433  8.333340e-08  1.105782e-13\n",
      "6       f3  0.100    -0.051709 -1.667500e-03  3.337304e-06\n",
      "7       f3  0.010    -0.005017 -1.666675e-05  3.333481e-10\n",
      "8       f3  0.001    -0.000500 -1.666667e-07  2.686740e-14\n"
     ]
    }
   ],
   "source": [
    "def f1(x):\n",
    "    return x**3 - 2*x\n",
    "\n",
    "def f2(x):\n",
    "    return np.sin(x)\n",
    "\n",
    "def f3(x):\n",
    "    return np.exp(x)\n",
    "\n",
    "x1 = 1\n",
    "x2 = np.pi / 3\n",
    "x3 = 0\n",
    "\n",
    "h_values = [0.1, 0.01, 0.001]\n",
    "\n",
    "results = []\n",
    "\n",
    "for h in h_values:\n",
    "    results.append([\"f1\", h, 1 - Dc1(f1, x1, h), 1 - Dc2(f1, x1, h), 1 - Dc4(f1, x1, h)])\n",
    "\n",
    "for h in h_values:\n",
    "    results.append([\"f2\", h,  1/2 - Dc1(f2, x2, h),  1/2 - Dc2(f2, x2, h),  1/2 - Dc4(f2, x2, h)])\n",
    "\n",
    "for h in h_values:\n",
    "    results.append([\"f3\", h,  1 - Dc1(f3, x3, h),  1 - Dc2(f3, x3, h),  1 - Dc4(f3, x3, h)])\n",
    "\n",
    "columns = [\"Function\", \"h\", \"f'(x) - Dc1\", \"f'(x) - Dc2\", \"f'(x) - Dc4\"]\n",
    "df = pd.DataFrame(results, columns=columns)\n",
    "print(df)"
   ]
  },
  {
   "cell_type": "markdown",
   "metadata": {},
   "source": [
    "### Zadanie 7\n",
    "Na podstawie danych z tabeli oblicz $f'(0.2)$ najdokładniej, jak to tylko możliwe:  \n",
    "\n",
    "| $x$      | 0.0     | 0.1     | 0.2     | 0.3     | 0.4     |\n",
    "|----------|---------|---------|---------|---------|---------|\n",
    "| $f(x)$   | 0.000000 | 0.078348 | 0.138910 | 0.192916 | 0.244981 |\n"
   ]
  },
  {
   "cell_type": "code",
   "execution_count": 12,
   "metadata": {},
   "outputs": [
    {
     "name": "stdout",
     "output_type": "stream",
     "text": [
      "f'(0.2) =  0.6045300000000059\n"
     ]
    }
   ],
   "source": [
    "def zad7(x):\n",
    "    xs = [0, 0.1, 0.2, 0.3, 0.4]\n",
    "    ys = [0, 0.078348, 0.138910, 0.192916, 0.244981]\n",
    "    a, b, c = np.polyfit(xs, ys, 2)\n",
    "\n",
    "    return a*x**2 + b*x + c\n",
    "\n",
    "print(\"f'(0.2) = \", Dc4(zad7, 0.2, 0.001))"
   ]
  },
  {
   "cell_type": "code",
   "execution_count": 25,
   "metadata": {},
   "outputs": [
    {
     "data": {
      "image/png": "[encoded data removed]",
      "text/plain": [
       "<Figure size 800x500 with 1 Axes>"
      ]
     },
     "metadata": {},
     "output_type": "display_data"
    }
   ],
   "source": [
    "x_values = np.linspace(0, 0.4, 100)\n",
    "y_values = [zad7(x) for x in x_values]\n",
    "\n",
    "point = 0.2\n",
    "f_prime = Dc4(zad7, point, 0.001)\n",
    "styczna_y = zad7(point) + f_prime * (x_values - point)\n",
    "\n",
    "plt.figure(figsize=(8, 5))\n",
    "plt.plot(x_values, y_values, label=\"f(x)\")\n",
    "plt.plot(x_values, styczna_y, label=\"Styczna w x = 0.2\", linestyle=\"--\")\n",
    "plt.scatter(point, zad7(point))\n",
    "plt.legend()\n",
    "plt.grid(linestyle=\"--\")\n",
    "plt.show()"
   ]
  },
  {
   "cell_type": "markdown",
   "metadata": {},
   "source": [
    "### Zadanie 8\n",
    "Korzystając z interpolacji wielomianowej, oblicz $f'(0)$ i $f''(0)$, jeśli dane są następujące:\n",
    "\n",
    "| $x$      | $-2.2$  | $-0.3$  | $0.8$   | $1.9$   |\n",
    "|----------|---------|---------|---------|---------|\n",
    "| $f(x)$   | $15.180$| $10.962$| $1.920$ | $-2.040$|"
   ]
  },
  {
   "cell_type": "code",
   "execution_count": 14,
   "metadata": {},
   "outputs": [],
   "source": [
    "def lagrange_derivative(x, xs, ys):\n",
    "    '''\n",
    "    Function:\n",
    "        Funkcja obliczająca pochodną metodą Lagrangea\n",
    "    Input:\n",
    "        x (float) - punkt obliczania pochodnej\n",
    "        xs (list) - argumenty funkcji\n",
    "        ys (list) - wartości funkcji\n",
    "    Output:\n",
    "        result (float) - rozwiązanie\n",
    "    ''' \n",
    "    result = 0\n",
    "    n = len(xs)\n",
    "    for i in range(n):\n",
    "        sum = 0\n",
    "        for j in range(n):\n",
    "            if j != i:\n",
    "                product = 1\n",
    "                for k in range(n):\n",
    "                    if k != i and k != j:\n",
    "                        product *= (x - xs[k]) / (xs[i] - xs[k])\n",
    "                sum += product / (xs[i] - xs[j])\n",
    "        result += ys[i] * sum\n",
    "    return result\n",
    "\n",
    "def lagrange_second_derivative(x, xs, ys):\n",
    "    '''\n",
    "    Function:\n",
    "        Funkcja obliczająca drugą pochodną metodą Lagrangea\n",
    "    Input:\n",
    "        x (float) - punkt obliczania pochodnej\n",
    "        xs (list) - argumenty funkcji\n",
    "        ys (list) - wartości funkcji\n",
    "    Output:\n",
    "        result (float) - rozwiązanie\n",
    "    ''' \n",
    "    result = 0\n",
    "    n = len(xs)\n",
    "    for i in range(n):\n",
    "        sum = 0\n",
    "        for j in range(n):\n",
    "            if j != i:\n",
    "                product = 1\n",
    "                for k in range(n):\n",
    "                    if k != i and k != j:\n",
    "                        product *= (x - xs[k]) / (xs[i] - xs[k])\n",
    "                sum += product / ((xs[i] - xs[j])**2)\n",
    "        result += ys[i] * sum\n",
    "    return result"
   ]
  },
  {
   "cell_type": "code",
   "execution_count": 15,
   "metadata": {},
   "outputs": [
    {
     "name": "stdout",
     "output_type": "stream",
     "text": [
      "f'(0) =  -8.56\n",
      "f''(0) =  15.71316031412152\n"
     ]
    }
   ],
   "source": [
    "xs = np.array([-2.2, -0.3, 0.8, 1.9])\n",
    "ys = np.array([15.180, 10.962, 1.920, -2.040])\n",
    "\n",
    "print(\"f'(0) = \", lagrange_derivative(0, xs, ys))\n",
    "print(\"f''(0) = \", lagrange_second_derivative(0, xs, ys))"
   ]
  },
  {
   "cell_type": "code",
   "execution_count": 27,
   "metadata": {},
   "outputs": [
    {
     "data": {
      "image/png": "[encoded data removed]",
      "text/plain": [
       "<Figure size 640x480 with 1 Axes>"
      ]
     },
     "metadata": {},
     "output_type": "display_data"
    }
   ],
   "source": [
    "def lagrange_interpolation(x, xs, ys):\n",
    "    return sum(ys[i] * np.prod([(x - xs[k]) / (xs[i] - xs[k]) for k in range(len(xs)) if k != i]) for i in range(len(xs)))\n",
    "\n",
    "f_0 = lagrange_interpolation(0, xs, ys)\n",
    "\n",
    "x_values = np.linspace(-2.5, 2.5, 500)\n",
    "interp_values = [lagrange_interpolation(x, xs, ys) for x in x_values]\n",
    "styczna = [lagrange_derivative(0, xs, ys) * x + f_0 for x in x_values]\n",
    "\n",
    "plt.plot(x_values, interp_values)\n",
    "plt.plot(x_values, styczna, label=\"Styczna w x=0\", color=\"orange\", linestyle=\"--\")\n",
    "plt.scatter(0, f_0, label=\"f(0)\")\n",
    "plt.scatter(xs, ys, color=\"green\", label=\"Punkty\")\n",
    "plt.legend()\n",
    "plt.grid(linestyle=\"--\")\n",
    "plt.show()"
   ]
  }
 ],
 "metadata": {
  "kernelspec": {
   "display_name": "Python 3",
   "language": "python",
   "name": "python3"
  },
  "language_info": {
   "codemirror_mode": {
    "name": "ipython",
    "version": 3
   },
   "file_extension": ".py",
   "mimetype": "text/x-python",
   "name": "python",
   "nbconvert_exporter": "python",
   "pygments_lexer": "ipython3",
   "version": "3.13.0"
  }
 },
 "nbformat": 4,
 "nbformat_minor": 2
}
